{
 "cells": [
  {
   "cell_type": "markdown",
   "metadata": {},
   "source": [
    "# CISC490 Competition No. 1\n",
    "\n",
    "#### Questions:\n",
    "1. Is the bus service accessible to everyone in Kingston (walk, bike, park, and ride to a bus stop)?\n",
    "2. Are there some redundant bus routes that can be cancelled?\n",
    "3. Assume that each driveway has two cars and that all people work in downtown Kingston, how many new bus routes are needed to make people leave their cars at home? How much would that reduce the gas emissions (make your own reasonable assuptions)?\n",
    "4. Is there anything else you find interesting in the daya that can help planning the bus routes?"
   ]
  },
  {
   "cell_type": "code",
   "execution_count": 78,
   "metadata": {},
   "outputs": [],
   "source": [
    "import pandas as pd\n",
    "import seaborn as sns\n",
    "import matplotlib.pyplot as plt\n",
    "from haversine import haversine"
   ]
  },
  {
   "cell_type": "code",
   "execution_count": 24,
   "metadata": {},
   "outputs": [
    {
     "data": {
      "text/html": [
       "<div>\n",
       "<style>\n",
       "    .dataframe thead tr:only-child th {\n",
       "        text-align: right;\n",
       "    }\n",
       "\n",
       "    .dataframe thead th {\n",
       "        text-align: left;\n",
       "    }\n",
       "\n",
       "    .dataframe tbody tr th {\n",
       "        vertical-align: top;\n",
       "    }\n",
       "</style>\n",
       "<table border=\"1\" class=\"dataframe\">\n",
       "  <thead>\n",
       "    <tr style=\"text-align: right;\">\n",
       "      <th></th>\n",
       "      <th>ADDR_NUM</th>\n",
       "      <th>STR_NAME</th>\n",
       "      <th>STR_TYPE</th>\n",
       "      <th>DIRECT_SUF</th>\n",
       "      <th>A_NUM_SUF</th>\n",
       "      <th>UNIT</th>\n",
       "      <th>STREET</th>\n",
       "      <th>MUNICIP</th>\n",
       "      <th>UNIT_TYPE</th>\n",
       "      <th>GARBAGE_D</th>\n",
       "      <th>ELEC_DIST</th>\n",
       "      <th>NEIGHBRHD</th>\n",
       "      <th>RECYCLE_D</th>\n",
       "      <th>POSTAL_COD</th>\n",
       "      <th>GeoJSON</th>\n",
       "    </tr>\n",
       "  </thead>\n",
       "  <tbody>\n",
       "    <tr>\n",
       "      <th>0</th>\n",
       "      <td>992</td>\n",
       "      <td>RICK HANSEN</td>\n",
       "      <td>CRES</td>\n",
       "      <td>NaN</td>\n",
       "      <td>NaN</td>\n",
       "      <td>NaN</td>\n",
       "      <td>RICK HANSEN CRES</td>\n",
       "      <td>KINGSTON</td>\n",
       "      <td>BASE</td>\n",
       "      <td>Wednesday</td>\n",
       "      <td>Loyalist-Cataraqui</td>\n",
       "      <td>Westwoods</td>\n",
       "      <td>WEDNESDAY-1</td>\n",
       "      <td>K7P 2M3</td>\n",
       "      <td>{\"type\":\"Point\",\"coordinates\":[371569.2596,490...</td>\n",
       "    </tr>\n",
       "    <tr>\n",
       "      <th>1</th>\n",
       "      <td>920</td>\n",
       "      <td>KING</td>\n",
       "      <td>ST</td>\n",
       "      <td>W</td>\n",
       "      <td>A</td>\n",
       "      <td>NaN</td>\n",
       "      <td>KING ST W</td>\n",
       "      <td>KINGSTON</td>\n",
       "      <td>UNIT</td>\n",
       "      <td>Monday</td>\n",
       "      <td>Portsmouth</td>\n",
       "      <td>Fairway Hills</td>\n",
       "      <td>MONDAY-2</td>\n",
       "      <td>K7M 9G9</td>\n",
       "      <td>{\"type\":\"Point\",\"coordinates\":[377748.179,4897...</td>\n",
       "    </tr>\n",
       "    <tr>\n",
       "      <th>2</th>\n",
       "      <td>182</td>\n",
       "      <td>BRICELAND</td>\n",
       "      <td>ST</td>\n",
       "      <td>NaN</td>\n",
       "      <td>NaN</td>\n",
       "      <td>NaN</td>\n",
       "      <td>BRICELAND ST</td>\n",
       "      <td>KINGSTON</td>\n",
       "      <td>BASE</td>\n",
       "      <td>Thursday</td>\n",
       "      <td>Cataraqui</td>\n",
       "      <td>Rideau Heights</td>\n",
       "      <td>THURSDAY-1</td>\n",
       "      <td>K7K 7L2</td>\n",
       "      <td>{\"type\":\"Point\",\"coordinates\":[381037.6952,490...</td>\n",
       "    </tr>\n",
       "    <tr>\n",
       "      <th>3</th>\n",
       "      <td>937</td>\n",
       "      <td>SUNBURY</td>\n",
       "      <td>RD</td>\n",
       "      <td>NaN</td>\n",
       "      <td>NaN</td>\n",
       "      <td>NaN</td>\n",
       "      <td>SUNBURY RD</td>\n",
       "      <td>KINGSTON</td>\n",
       "      <td>BASE</td>\n",
       "      <td>Tuesday</td>\n",
       "      <td>Countryside</td>\n",
       "      <td>Joyceville-Brewers Mills</td>\n",
       "      <td>TUESDAY-1</td>\n",
       "      <td>NaN</td>\n",
       "      <td>{\"type\":\"Point\",\"coordinates\":[395611.8025,491...</td>\n",
       "    </tr>\n",
       "    <tr>\n",
       "      <th>4</th>\n",
       "      <td>164</td>\n",
       "      <td>BRICELAND</td>\n",
       "      <td>ST</td>\n",
       "      <td>NaN</td>\n",
       "      <td>NaN</td>\n",
       "      <td>NaN</td>\n",
       "      <td>BRICELAND ST</td>\n",
       "      <td>KINGSTON</td>\n",
       "      <td>BASE</td>\n",
       "      <td>Thursday</td>\n",
       "      <td>Cataraqui</td>\n",
       "      <td>Rideau Heights</td>\n",
       "      <td>THURSDAY-1</td>\n",
       "      <td>K7K 7L2</td>\n",
       "      <td>{\"type\":\"Point\",\"coordinates\":[381119.4111,490...</td>\n",
       "    </tr>\n",
       "  </tbody>\n",
       "</table>\n",
       "</div>"
      ],
      "text/plain": [
       "   ADDR_NUM     STR_NAME STR_TYPE DIRECT_SUF A_NUM_SUF UNIT            STREET  \\\n",
       "0       992  RICK HANSEN     CRES        NaN       NaN  NaN  RICK HANSEN CRES   \n",
       "1       920         KING       ST          W         A  NaN         KING ST W   \n",
       "2       182    BRICELAND       ST        NaN       NaN  NaN      BRICELAND ST   \n",
       "3       937      SUNBURY       RD        NaN       NaN  NaN        SUNBURY RD   \n",
       "4       164    BRICELAND       ST        NaN       NaN  NaN      BRICELAND ST   \n",
       "\n",
       "    MUNICIP UNIT_TYPE  GARBAGE_D           ELEC_DIST  \\\n",
       "0  KINGSTON      BASE  Wednesday  Loyalist-Cataraqui   \n",
       "1  KINGSTON      UNIT     Monday          Portsmouth   \n",
       "2  KINGSTON      BASE   Thursday           Cataraqui   \n",
       "3  KINGSTON      BASE    Tuesday         Countryside   \n",
       "4  KINGSTON      BASE   Thursday           Cataraqui   \n",
       "\n",
       "                  NEIGHBRHD    RECYCLE_D POSTAL_COD  \\\n",
       "0                 Westwoods  WEDNESDAY-1    K7P 2M3   \n",
       "1             Fairway Hills     MONDAY-2    K7M 9G9   \n",
       "2            Rideau Heights   THURSDAY-1    K7K 7L2   \n",
       "3  Joyceville-Brewers Mills    TUESDAY-1        NaN   \n",
       "4            Rideau Heights   THURSDAY-1    K7K 7L2   \n",
       "\n",
       "                                             GeoJSON  \n",
       "0  {\"type\":\"Point\",\"coordinates\":[371569.2596,490...  \n",
       "1  {\"type\":\"Point\",\"coordinates\":[377748.179,4897...  \n",
       "2  {\"type\":\"Point\",\"coordinates\":[381037.6952,490...  \n",
       "3  {\"type\":\"Point\",\"coordinates\":[395611.8025,491...  \n",
       "4  {\"type\":\"Point\",\"coordinates\":[381119.4111,490...  "
      ]
     },
     "execution_count": 24,
     "metadata": {},
     "output_type": "execute_result"
    }
   ],
   "source": [
    "# read and preview civic address dataset\n",
    "addresses = pd.read_csv(\"Civic_Address.csv\")\n",
    "addresses.head()"
   ]
  },
  {
   "cell_type": "code",
   "execution_count": 23,
   "metadata": {},
   "outputs": [
    {
     "data": {
      "text/html": [
       "<div>\n",
       "<style>\n",
       "    .dataframe thead tr:only-child th {\n",
       "        text-align: right;\n",
       "    }\n",
       "\n",
       "    .dataframe thead th {\n",
       "        text-align: left;\n",
       "    }\n",
       "\n",
       "    .dataframe tbody tr th {\n",
       "        vertical-align: top;\n",
       "    }\n",
       "</style>\n",
       "<table border=\"1\" class=\"dataframe\">\n",
       "  <thead>\n",
       "    <tr style=\"text-align: right;\">\n",
       "      <th></th>\n",
       "      <th>stop_id</th>\n",
       "      <th>stop_name</th>\n",
       "      <th>stop_lat</th>\n",
       "      <th>stop_lon</th>\n",
       "    </tr>\n",
       "  </thead>\n",
       "  <tbody>\n",
       "    <tr>\n",
       "      <th>0</th>\n",
       "      <td>S02077</td>\n",
       "      <td>Cataraqui Centre Transfer Point Platform 1</td>\n",
       "      <td>44.255201</td>\n",
       "      <td>-76.572360</td>\n",
       "    </tr>\n",
       "    <tr>\n",
       "      <th>1</th>\n",
       "      <td>00799</td>\n",
       "      <td>Norwest Road (east side of Midland)</td>\n",
       "      <td>44.257216</td>\n",
       "      <td>-76.574003</td>\n",
       "    </tr>\n",
       "    <tr>\n",
       "      <th>2</th>\n",
       "      <td>00842</td>\n",
       "      <td>O'Connor Drive (east side of Gardiners)</td>\n",
       "      <td>44.259691</td>\n",
       "      <td>-76.568480</td>\n",
       "    </tr>\n",
       "    <tr>\n",
       "      <th>3</th>\n",
       "      <td>00841</td>\n",
       "      <td>Norris Court (east side of Gardiners)</td>\n",
       "      <td>44.263105</td>\n",
       "      <td>-76.568621</td>\n",
       "    </tr>\n",
       "    <tr>\n",
       "      <th>4</th>\n",
       "      <td>00848</td>\n",
       "      <td>640 Cataraqui Woods Drive (south side)</td>\n",
       "      <td>44.266914</td>\n",
       "      <td>-76.567121</td>\n",
       "    </tr>\n",
       "  </tbody>\n",
       "</table>\n",
       "</div>"
      ],
      "text/plain": [
       "  stop_id                                   stop_name   stop_lat   stop_lon\n",
       "0  S02077  Cataraqui Centre Transfer Point Platform 1  44.255201 -76.572360\n",
       "1   00799         Norwest Road (east side of Midland)  44.257216 -76.574003\n",
       "2   00842     O'Connor Drive (east side of Gardiners)  44.259691 -76.568480\n",
       "3   00841       Norris Court (east side of Gardiners)  44.263105 -76.568621\n",
       "4   00848      640 Cataraqui Woods Drive (south side)  44.266914 -76.567121"
      ]
     },
     "execution_count": 23,
     "metadata": {},
     "output_type": "execute_result"
    }
   ],
   "source": [
    "# read and preview stops dataset\n",
    "stops = pd.read_csv(\"stops.txt\")\n",
    "stops.head()"
   ]
  },
  {
   "cell_type": "markdown",
   "metadata": {},
   "source": [
    "## Question 1: Is the bus service accessible to everyone in Kingston (walk, bike, park, and ride to a bus stop)?"
   ]
  },
  {
   "cell_type": "markdown",
   "metadata": {},
   "source": [
    "#### Converting Civic Addresses to Valid Longitude/Longitude Coordinates"
   ]
  },
  {
   "cell_type": "code",
   "execution_count": null,
   "metadata": {},
   "outputs": [],
   "source": [
    "# script for google api"
   ]
  },
  {
   "cell_type": "markdown",
   "metadata": {},
   "source": [
    "#### Calculating Distance Between Two Points Using the Haversine Formula\n",
    "https://en.wikipedia.org/wiki/Haversine_formula"
   ]
  },
  {
   "cell_type": "code",
   "execution_count": 26,
   "metadata": {},
   "outputs": [
    {
     "name": "stdout",
     "output_type": "stream",
     "text": [
      "Coordinates for stop a: (44.255201099440498, -76.572360014542994)\n",
      "Coordinates for stop b: (44.257215857505798, -76.574003370478792)\n"
     ]
    }
   ],
   "source": [
    "# EXAMPLE\n",
    "# get latitude and longitude for first two stops in stops.txt\n",
    "a = (stops[\"stop_lat\"][0], stops[\"stop_lon\"][0])\n",
    "b = (stops[\"stop_lat\"][1], stops[\"stop_lon\"][1])\n",
    "print(\"Coordinates for stop a:\", a)\n",
    "print(\"Coordinates for stop b:\", b)"
   ]
  },
  {
   "cell_type": "code",
   "execution_count": 27,
   "metadata": {},
   "outputs": [
    {
     "name": "stdout",
     "output_type": "stream",
     "text": [
      "Distance between stop a and stop b: 0.2594588657944471\n"
     ]
    }
   ],
   "source": [
    "# EXAMPLE\n",
    "# calculate the haversine distance between a and b\n",
    "dist_ab = haversine(a, b)\n",
    "print(\"Distance between stop a and stop b:\", dist_ab)"
   ]
  },
  {
   "cell_type": "markdown",
   "metadata": {},
   "source": [
    "## October Transit Data"
   ]
  },
  {
   "cell_type": "code",
   "execution_count": 99,
   "metadata": {},
   "outputs": [
    {
     "data": {
      "text/html": [
       "<div>\n",
       "<style>\n",
       "    .dataframe thead tr:only-child th {\n",
       "        text-align: right;\n",
       "    }\n",
       "\n",
       "    .dataframe thead th {\n",
       "        text-align: left;\n",
       "    }\n",
       "\n",
       "    .dataframe tbody tr th {\n",
       "        vertical-align: top;\n",
       "    }\n",
       "</style>\n",
       "<table border=\"1\" class=\"dataframe\">\n",
       "  <thead>\n",
       "    <tr style=\"text-align: right;\">\n",
       "      <th></th>\n",
       "      <th>Date</th>\n",
       "      <th>Time</th>\n",
       "      <th>Class</th>\n",
       "      <th>Operation</th>\n",
       "      <th>Bus</th>\n",
       "      <th>Route</th>\n",
       "      <th>Latitude</th>\n",
       "      <th>Longitude</th>\n",
       "    </tr>\n",
       "  </thead>\n",
       "  <tbody>\n",
       "    <tr>\n",
       "      <th>0</th>\n",
       "      <td>2017-10-01 0:00</td>\n",
       "      <td>1900-01-01 1:43</td>\n",
       "      <td>QUEENS</td>\n",
       "      <td>Exact Fare</td>\n",
       "      <td>620</td>\n",
       "      <td>17</td>\n",
       "      <td>44.227860</td>\n",
       "      <td>-76.496938</td>\n",
       "    </tr>\n",
       "    <tr>\n",
       "      <th>1</th>\n",
       "      <td>2017-10-01 0:00</td>\n",
       "      <td>1900-01-01 1:43</td>\n",
       "      <td>QUEENS</td>\n",
       "      <td>Exact Fare</td>\n",
       "      <td>620</td>\n",
       "      <td>17</td>\n",
       "      <td>44.227860</td>\n",
       "      <td>-76.496938</td>\n",
       "    </tr>\n",
       "    <tr>\n",
       "      <th>2</th>\n",
       "      <td>2017-10-01 0:00</td>\n",
       "      <td>1900-01-01 1:58</td>\n",
       "      <td>ADULT</td>\n",
       "      <td>Pass (Multi-ride card)</td>\n",
       "      <td>620</td>\n",
       "      <td>17</td>\n",
       "      <td>44.232035</td>\n",
       "      <td>-76.491397</td>\n",
       "    </tr>\n",
       "    <tr>\n",
       "      <th>3</th>\n",
       "      <td>2017-10-01 0:00</td>\n",
       "      <td>1900-01-01 1:58</td>\n",
       "      <td>QUEENS</td>\n",
       "      <td>Exact Fare</td>\n",
       "      <td>620</td>\n",
       "      <td>17</td>\n",
       "      <td>44.232035</td>\n",
       "      <td>-76.491397</td>\n",
       "    </tr>\n",
       "    <tr>\n",
       "      <th>4</th>\n",
       "      <td>2017-10-01 0:00</td>\n",
       "      <td>1900-01-01 1:58</td>\n",
       "      <td>QUEENS</td>\n",
       "      <td>Exact Fare</td>\n",
       "      <td>620</td>\n",
       "      <td>17</td>\n",
       "      <td>44.232035</td>\n",
       "      <td>-76.491397</td>\n",
       "    </tr>\n",
       "  </tbody>\n",
       "</table>\n",
       "</div>"
      ],
      "text/plain": [
       "              Date             Time   Class               Operation  Bus  \\\n",
       "0  2017-10-01 0:00  1900-01-01 1:43  QUEENS              Exact Fare  620   \n",
       "1  2017-10-01 0:00  1900-01-01 1:43  QUEENS              Exact Fare  620   \n",
       "2  2017-10-01 0:00  1900-01-01 1:58   ADULT  Pass (Multi-ride card)  620   \n",
       "3  2017-10-01 0:00  1900-01-01 1:58  QUEENS              Exact Fare  620   \n",
       "4  2017-10-01 0:00  1900-01-01 1:58  QUEENS              Exact Fare  620   \n",
       "\n",
       "   Route   Latitude  Longitude  \n",
       "0     17  44.227860 -76.496938  \n",
       "1     17  44.227860 -76.496938  \n",
       "2     17  44.232035 -76.491397  \n",
       "3     17  44.232035 -76.491397  \n",
       "4     17  44.232035 -76.491397  "
      ]
     },
     "execution_count": 99,
     "metadata": {},
     "output_type": "execute_result"
    }
   ],
   "source": [
    "october = pd.read_csv(\"october_transit.csv\")\n",
    "october.head()"
   ]
  },
  {
   "cell_type": "code",
   "execution_count": 100,
   "metadata": {},
   "outputs": [
    {
     "data": {
      "text/plain": [
       "array(['2017-10-01 0:00', '2017-10-02 0:00', '2017-10-03 0:00',\n",
       "       '2017-10-04 0:00', '2017-10-05 0:00', '2017-10-06 0:00',\n",
       "       '2017-10-07 0:00', '2017-10-08 0:00', '2017-10-09 0:00',\n",
       "       '2017-10-10 0:00', '2017-10-11 0:00', '2017-10-12 0:00',\n",
       "       '2017-10-13 0:00', '2017-10-14 0:00', '2017-10-15 0:00',\n",
       "       '2017-10-16 0:00', '2017-10-17 0:00', '2017-10-18 0:00',\n",
       "       '2017-10-19 0:00', '2017-10-20 0:00', '2017-10-21 0:00',\n",
       "       '2017-10-22 0:00', '2017-10-23 0:00', '2017-10-24 0:00',\n",
       "       '2017-10-25 0:00', '2017-10-26 0:00', '2017-10-27 0:00',\n",
       "       '2017-10-28 0:00', '2017-10-29 0:00', '2017-10-30 0:00',\n",
       "       '2017-10-31 0:00'], dtype=object)"
      ]
     },
     "execution_count": 100,
     "metadata": {},
     "output_type": "execute_result"
    }
   ],
   "source": [
    "october[\"Date\"].unique()"
   ]
  },
  {
   "cell_type": "code",
   "execution_count": 101,
   "metadata": {},
   "outputs": [
    {
     "data": {
      "text/plain": [
       "array(['QUEENS', 'ADULT', 'Youth', 'ST LAWRENCE', 'Child', 'Transpass',\n",
       "       'SENIOR', 'Student', 'YOUTH', 'Commuter', 'CHILD'], dtype=object)"
      ]
     },
     "execution_count": 101,
     "metadata": {},
     "output_type": "execute_result"
    }
   ],
   "source": [
    "october[\"Class\"].unique()"
   ]
  },
  {
   "cell_type": "code",
   "execution_count": 102,
   "metadata": {},
   "outputs": [
    {
     "data": {
      "text/plain": [
       "array(['Exact Fare', 'Pass (Multi-ride card)', 'Rides (Multi-ride card)',\n",
       "       'Transfer - Rides (Multi-ride card)',\n",
       "       'Transfer - Pass (Multi-ride card)', 'Transfer - Printed Ticket '], dtype=object)"
      ]
     },
     "execution_count": 102,
     "metadata": {},
     "output_type": "execute_result"
    }
   ],
   "source": [
    "october[\"Operation\"].unique()"
   ]
  },
  {
   "cell_type": "code",
   "execution_count": 103,
   "metadata": {},
   "outputs": [
    {
     "data": {
      "text/plain": [
       "array([ 620, 1687, 1362, 1372, 1364, 1479,  622, 1684, 1368, 1046, 1683,\n",
       "       1689, 1365,  623, 1367,  729, 1482,  835,  942, 1049,  944, 1359,\n",
       "        728, 1050,  624, 1257, 1475, 1481,  834, 1369, 1047,  943, 1048,\n",
       "       1686, 1502, 1258,  836, 1480, 1506, 1254, 1476,  832, 1510, 1688,\n",
       "       1361, 1256, 1255, 1509, 1370,  833, 1477, 1366, 1504, 1685, 1363,\n",
       "       1051, 1474, 1360,  315, 1478, 1373, 1253,  945,  519])"
      ]
     },
     "execution_count": 103,
     "metadata": {},
     "output_type": "execute_result"
    }
   ],
   "source": [
    "october[\"Bus\"].unique()"
   ]
  },
  {
   "cell_type": "code",
   "execution_count": 104,
   "metadata": {},
   "outputs": [
    {
     "data": {
      "text/plain": [
       "array([ 17,   7, 701,  15, 501, 502,   1, 601,   4,   3,  11,   2,  12,\n",
       "        16,  10,  18,  13,   6,  14,  20,   8])"
      ]
     },
     "execution_count": 104,
     "metadata": {},
     "output_type": "execute_result"
    }
   ],
   "source": [
    "october[\"Route\"].unique()"
   ]
  },
  {
   "cell_type": "code",
   "execution_count": 105,
   "metadata": {},
   "outputs": [],
   "source": [
    "d = {}\n",
    "for i in october[october[\"Date\"]==\"2017-10-01 0:00\"][\"Time\"]:\n",
    "    if i[-5] == \" \":\n",
    "        time = int(i[-4])\n",
    "        if time not in d:\n",
    "            d[time] = 1\n",
    "        else:\n",
    "            d[time] += 1\n",
    "    else:\n",
    "        time = int(i[-5:-3])\n",
    "        if time not in d:\n",
    "            d[time] = 1\n",
    "        else:\n",
    "            d[time] += 1"
   ]
  },
  {
   "cell_type": "code",
   "execution_count": 109,
   "metadata": {},
   "outputs": [],
   "source": [
    "d_list = [(key, d[key]) for key in d.keys()]\n",
    "d_list = sorted(d_list)\n",
    "x = [i[0] for i in d_list]\n",
    "y = [i[1] for i in d_list]"
   ]
  },
  {
   "cell_type": "code",
   "execution_count": 133,
   "metadata": {},
   "outputs": [
    {
     "data": {
      "image/png": "[encoded data removed]",
      "text/plain": [
       "<matplotlib.figure.Figure at 0x1a1a930c88>"
      ]
     },
     "metadata": {},
     "output_type": "display_data"
    }
   ],
   "source": [
    "# plot passengers per hour for oct 1\n",
    "sns.set_color_codes(palette='muted')\n",
    "sns.barplot(x, y, color=\"b\")\n",
    "plt.title(\"Kingston Bus Passenger Boarding per Hour, October 1, 2017\")\n",
    "plt.ylabel(\"Number of Passengers\")\n",
    "plt.xlabel(\"Time of Day (Hour)\")\n",
    "plt.show()"
   ]
  },
  {
   "cell_type": "code",
   "execution_count": 134,
   "metadata": {},
   "outputs": [],
   "source": [
    "d = {}\n",
    "for i in october[\"Time\"]:\n",
    "    if i[-5] == \" \":\n",
    "        time = int(i[-4])\n",
    "        if time not in d:\n",
    "            d[time] = 1\n",
    "        else:\n",
    "            d[time] += 1\n",
    "    else:\n",
    "        time = int(i[-5:-3])\n",
    "        if time not in d:\n",
    "            d[time] = 1\n",
    "        else:\n",
    "            d[time] += 1"
   ]
  },
  {
   "cell_type": "code",
   "execution_count": 135,
   "metadata": {},
   "outputs": [],
   "source": [
    "d_list = [(key, d[key]/31) for key in d.keys()]\n",
    "d_list = sorted(d_list)\n",
    "x = [i[0] for i in d_list]\n",
    "y = [i[1] for i in d_list]"
   ]
  },
  {
   "cell_type": "code",
   "execution_count": 136,
   "metadata": {},
   "outputs": [
    {
     "data": {
      "image/png": "[encoded data removed]",
      "text/plain": [
       "<matplotlib.figure.Figure at 0x1a1c589e10>"
      ]
     },
     "metadata": {},
     "output_type": "display_data"
    }
   ],
   "source": [
    "sns.set_color_codes(palette='muted')\n",
    "sns.barplot(x, y, color=\"b\")\n",
    "plt.title(\"Average Kingston Bus Passenger Boarding per Hour, October 2017\")\n",
    "plt.ylabel(\"Number of Passengers\")\n",
    "plt.xlabel(\"Time of Day (Hour)\")\n",
    "plt.show()"
   ]
  },
  {
   "cell_type": "code",
   "execution_count": null,
   "metadata": {},
   "outputs": [],
   "source": []
  },
  {
   "cell_type": "code",
   "execution_count": null,
   "metadata": {},
   "outputs": [],
   "source": []
  }
 ],
 "metadata": {
  "kernelspec": {
   "display_name": "Python 3",
   "language": "python",
   "name": "python3"
  },
  "language_info": {
   "codemirror_mode": {
    "name": "ipython",
    "version": 3
   },
   "file_extension": ".py",
   "mimetype": "text/x-python",
   "name": "python",
   "nbconvert_exporter": "python",
   "pygments_lexer": "ipython3",
   "version": "3.6.4"
  }
 },
 "nbformat": 4,
 "nbformat_minor": 2
}
